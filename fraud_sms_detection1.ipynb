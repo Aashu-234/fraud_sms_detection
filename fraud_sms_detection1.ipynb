{
 "cells": [
  {
   "cell_type": "code",
   "execution_count": 1,
   "id": "daa5f491-94c4-415d-a9e9-95b2b212d5a2",
   "metadata": {},
   "outputs": [],
   "source": [
    "import pandas as pd\n",
    "import numpy as np\n",
    "import matplotlib.pyplot as plt\n",
    "from nltk.corpus import stopwords\n",
    "from sklearn.feature_extraction.text import CountVectorizer\n",
    "from sklearn.model_selection import train_test_split\n",
    "from sklearn.naive_bayes import MultinomialNB\n",
    "from sklearn.neighbors import KNeighborsClassifier\n",
    "from sklearn.svm import LinearSVC\n",
    "from sklearn.metrics import f1_score,accuracy_score\n",
    "\n"
   ]
  },
  {
   "cell_type": "code",
   "execution_count": 7,
   "id": "c68736de-52ef-47df-9326-9c6f33bbca8e",
   "metadata": {},
   "outputs": [
    {
     "data": {
      "text/html": [
       "<div>\n",
       "<style scoped>\n",
       "    .dataframe tbody tr th:only-of-type {\n",
       "        vertical-align: middle;\n",
       "    }\n",
       "\n",
       "    .dataframe tbody tr th {\n",
       "        vertical-align: top;\n",
       "    }\n",
       "\n",
       "    .dataframe thead th {\n",
       "        text-align: right;\n",
       "    }\n",
       "</style>\n",
       "<table border=\"1\" class=\"dataframe\">\n",
       "  <thead>\n",
       "    <tr style=\"text-align: right;\">\n",
       "      <th></th>\n",
       "      <th>v1</th>\n",
       "      <th>v2</th>\n",
       "      <th>Unnamed: 2</th>\n",
       "      <th>Unnamed: 3</th>\n",
       "      <th>Unnamed: 4</th>\n",
       "    </tr>\n",
       "  </thead>\n",
       "  <tbody>\n",
       "    <tr>\n",
       "      <th>0</th>\n",
       "      <td>ham</td>\n",
       "      <td>Go until jurong point, crazy.. Available only ...</td>\n",
       "      <td>NaN</td>\n",
       "      <td>NaN</td>\n",
       "      <td>NaN</td>\n",
       "    </tr>\n",
       "    <tr>\n",
       "      <th>1</th>\n",
       "      <td>ham</td>\n",
       "      <td>Ok lar... Joking wif u oni...</td>\n",
       "      <td>NaN</td>\n",
       "      <td>NaN</td>\n",
       "      <td>NaN</td>\n",
       "    </tr>\n",
       "    <tr>\n",
       "      <th>2</th>\n",
       "      <td>spam</td>\n",
       "      <td>Free entry in 2 a wkly comp to win FA Cup fina...</td>\n",
       "      <td>NaN</td>\n",
       "      <td>NaN</td>\n",
       "      <td>NaN</td>\n",
       "    </tr>\n",
       "    <tr>\n",
       "      <th>3</th>\n",
       "      <td>ham</td>\n",
       "      <td>U dun say so early hor... U c already then say...</td>\n",
       "      <td>NaN</td>\n",
       "      <td>NaN</td>\n",
       "      <td>NaN</td>\n",
       "    </tr>\n",
       "    <tr>\n",
       "      <th>4</th>\n",
       "      <td>ham</td>\n",
       "      <td>Nah I don't think he goes to usf, he lives aro...</td>\n",
       "      <td>NaN</td>\n",
       "      <td>NaN</td>\n",
       "      <td>NaN</td>\n",
       "    </tr>\n",
       "  </tbody>\n",
       "</table>\n",
       "</div>"
      ],
      "text/plain": [
       "     v1                                                 v2 Unnamed: 2  \\\n",
       "0   ham  Go until jurong point, crazy.. Available only ...        NaN   \n",
       "1   ham                      Ok lar... Joking wif u oni...        NaN   \n",
       "2  spam  Free entry in 2 a wkly comp to win FA Cup fina...        NaN   \n",
       "3   ham  U dun say so early hor... U c already then say...        NaN   \n",
       "4   ham  Nah I don't think he goes to usf, he lives aro...        NaN   \n",
       "\n",
       "  Unnamed: 3 Unnamed: 4  \n",
       "0        NaN        NaN  \n",
       "1        NaN        NaN  \n",
       "2        NaN        NaN  \n",
       "3        NaN        NaN  \n",
       "4        NaN        NaN  "
      ]
     },
     "execution_count": 7,
     "metadata": {},
     "output_type": "execute_result"
    }
   ],
   "source": [
    "df = pd.read_csv('spam.csv', encoding='latin1')",
    "\n",
    "df.head()"
   ]
  },
  {
   "cell_type": "code",
   "execution_count": 11,
   "id": "63a7c032-822a-4695-8761-ac819944e3f8",
   "metadata": {},
   "outputs": [],
   "source": [
    "df.rename(columns={'v1':'Class','v2':'Text'},inplace=True)\n",
    "df['numClass'] = df['Class'].map({'ham':0, 'spam':1})\n",
    "df['Count']=0\n",
    "for i in np.arange(0,len(df.Text)):\n",
    "    df.loc[i,'Count'] = len(df.loc[i,'Text'])"
   ]
  },
  {
   "cell_type": "code",
   "execution_count": 13,
   "id": "e2777067-521e-4c69-892a-950b5a9ea073",
   "metadata": {},
   "outputs": [
    {
     "name": "stdout",
     "output_type": "stream",
     "text": [
      "Unique values in the Class set:  ['ham' 'spam']\n"
     ]
    }
   ],
   "source": [
    "# Unique values in target set\n",
    "print(\"Unique values in the Class set: \", df.Class.unique())"
   ]
  },
  {
   "cell_type": "code",
   "execution_count": 15,
   "id": "4683613a-ce19-4267-b27f-cc55116a0297",
   "metadata": {},
   "outputs": [
    {
     "name": "stdout",
     "output_type": "stream",
     "text": [
      "Number of ham messages in data set: 4825\n"
     ]
    },
    {
     "name": "stderr",
     "output_type": "stream",
     "text": [
      "C:\\Users\\KIIT\\AppData\\Local\\Temp\\ipykernel_24640\\2397229559.py:2: FutureWarning: pandas.value_counts is deprecated and will be removed in a future version. Use pd.Series(obj).value_counts() instead.\n",
      "  ham_count  = pd.DataFrame(pd.value_counts(ham['Count'],sort=True).sort_index())\n"
     ]
    }
   ],
   "source": [
    "ham  = df[df.numClass == 0]\n",
    "ham_count  = pd.DataFrame(pd.value_counts(ham['Count'],sort=True).sort_index())\n",
    "print(\"Number of ham messages in data set:\", ham['Class'].count())\n",
    "#print(\"Ham Count value\", ham_count['Count'].count())\n"
   ]
  },
  {
   "cell_type": "code",
   "execution_count": 17,
   "id": "db1b4911-ac89-4320-924d-1f24fcf85c29",
   "metadata": {},
   "outputs": [
    {
     "name": "stdout",
     "output_type": "stream",
     "text": [
      "Number of spam messages in data set: 747\n"
     ]
    },
    {
     "name": "stderr",
     "output_type": "stream",
     "text": [
      "C:\\Users\\KIIT\\AppData\\Local\\Temp\\ipykernel_24640\\4098785973.py:2: FutureWarning: pandas.value_counts is deprecated and will be removed in a future version. Use pd.Series(obj).value_counts() instead.\n",
      "  spam_count = pd.DataFrame(pd.value_counts(spam['Count'],sort=True).sort_index())\n"
     ]
    }
   ],
   "source": [
    "spam = df[df.numClass == 1]\n",
    "spam_count = pd.DataFrame(pd.value_counts(spam['Count'],sort=True).sort_index())\n",
    "print(\"Number of spam messages in data set:\", spam['Class'].count())\n",
    "#print(\"Spam Count value:\", spam_count['Count'].count())\n"
   ]
  },
  {
   "cell_type": "code",
   "execution_count": 21,
   "id": "212952ee-c578-441d-b9a3-f1c26dc20979",
   "metadata": {},
   "outputs": [
    {
     "name": "stderr",
     "output_type": "stream",
     "text": [
      "[nltk_data] Downloading package stopwords to\n",
      "[nltk_data]     C:\\Users\\KIIT\\AppData\\Roaming\\nltk_data...\n",
      "[nltk_data]   Unzipping corpora\\stopwords.zip.\n"
     ]
    },
    {
     "data": {
      "text/plain": [
       "True"
      ]
     },
     "execution_count": 21,
     "metadata": {},
     "output_type": "execute_result"
    }
   ],
   "source": [
    "import nltk\n",
    "nltk.download('stopwords')\n"
   ]
  },
  {
   "cell_type": "code",
   "execution_count": 23,
   "id": "66b43f13-217a-4a0a-ac34-d7105879940b",
   "metadata": {},
   "outputs": [],
   "source": [
    "#Removing stopwords of English\n",
    "stopset = set(stopwords.words(\"english\"))"
   ]
  },
  {
   "cell_type": "code",
   "execution_count": 25,
   "id": "c35c3dbb-5a46-457b-89ff-0d7d7e1a24af",
   "metadata": {},
   "outputs": [],
   "source": [
    "#Initialising Count Vectorizer\n",
    "vectorizer = CountVectorizer(stop_words=stopset,binary=True)\n",
    "vectorizer = CountVectorizer()"
   ]
  },
  {
   "cell_type": "code",
   "execution_count": 31,
   "id": "5551d99d-bb4b-49d3-91c0-519c67881b29",
   "metadata": {},
   "outputs": [],
   "source": [
    "X = vectorizer.fit_transform(df.Text)\n",
    "# Extract target column 'Class'\n",
    "y = df.numClass"
   ]
  },
  {
   "cell_type": "code",
   "execution_count": 33,
   "id": "fe0c8441-0840-4600-ab2e-1cf46d6b92f3",
   "metadata": {},
   "outputs": [],
   "source": [
    "#Performing test train Split \n",
    "X_train, X_test, y_train, y_test = train_test_split(X, y, test_size=0.30, train_size=0.70, random_state=None)"
   ]
  },
  {
   "cell_type": "code",
   "execution_count": 35,
   "id": "e8ac45a2-7a80-4202-9449-87749da1d191",
   "metadata": {},
   "outputs": [
    {
     "name": "stdout",
     "output_type": "stream",
     "text": [
      "\n",
      "\n",
      "Training set has 3900 samples.\n",
      "Testing set has 1672 samples.\n",
      "\n",
      "\n"
     ]
    }
   ],
   "source": [
    "# Show the results of the split\n",
    "print(\"\\n\")\n",
    "print(\"Training set has {} samples.\".format(X_train.shape[0]))\n",
    "print(\"Testing set has {} samples.\".format(X_test.shape[0]))\n",
    "print(\"\\n\")\n"
   ]
  },
  {
   "cell_type": "code",
   "execution_count": 57,
   "id": "54696d22-7016-4912-a60d-0247d408f7a4",
   "metadata": {},
   "outputs": [],
   "source": [
    "objects = ('Multi-NB','SVM','KNN')"
   ]
  },
  {
   "cell_type": "code",
   "execution_count": 59,
   "id": "e8e2cb0e-9fae-4815-8f81-fc785e8dec9b",
   "metadata": {},
   "outputs": [],
   "source": [
    "def train_classifier(clf, X_train, y_train):    \n",
    "    clf.fit(X_train, y_train)"
   ]
  },
  {
   "cell_type": "code",
   "execution_count": 61,
   "id": "92dfe038-c8b5-456e-896f-09c5d1fdefe6",
   "metadata": {},
   "outputs": [],
   "source": [
    " # function to predict features \n",
    "def predict_labels(clf, features):\n",
    "    return(clf.predict(features))"
   ]
  },
  {
   "cell_type": "code",
   "execution_count": 63,
   "id": "a651b41e-f36d-46ea-ab86-73dc50e84120",
   "metadata": {},
   "outputs": [],
   "source": [
    "# Initialize the five models\n",
    "A = MultinomialNB(alpha=1.0,fit_prior=True)\n",
    "B=  LinearSVC()\n",
    "C = KNeighborsClassifier(n_neighbors=1)\n",
    "# D = RandomForestClassifier(n_estimators=10, max_depth=None, min_samples_split=2, random_state=None)\n",
    "# E = AdaBoostClassifier(n_estimators=100) "
   ]
  },
  {
   "cell_type": "code",
   "execution_count": 65,
   "id": "772a376b-d4c8-4e08-b34b-0625fb5a313e",
   "metadata": {},
   "outputs": [],
   "source": [
    "clf = [A,B,C]\n",
    "acc_score = [0,0,0]"
   ]
  },
  {
   "cell_type": "code",
   "execution_count": 67,
   "id": "58b42f8b-1f37-43f0-9fc7-ddcc7f9ae2d1",
   "metadata": {},
   "outputs": [
    {
     "name": "stdout",
     "output_type": "stream",
     "text": [
      "Multi-NB\n",
      "Accuracy in %:\n",
      "98.38516746411483\n",
      "F1 Score\n",
      "0.9382151029748284\n",
      "\n",
      "\n",
      "SVM\n",
      "Accuracy in %:\n",
      "98.20574162679426\n",
      "F1 Score\n",
      "0.9271844660194175\n",
      "\n",
      "\n",
      "KNN\n",
      "Accuracy in %:\n",
      "94.91626794258373\n",
      "F1 Score\n",
      "0.7632311977715878\n",
      "\n",
      "\n"
     ]
    }
   ],
   "source": [
    "for a in range(0,3):\n",
    "    print(objects[a])\n",
    "    train_classifier(clf[a], X_train, y_train)\n",
    "    y_pred = predict_labels(clf[a],X_test)\n",
    "    pred_val = f1_score(y_test, y_pred)\n",
    "    acc_score[a]=accuracy_score(y_test, y_pred, normalize=True, sample_weight=None)\n",
    "    print(\"Accuracy in %:\")\n",
    "    print(acc_score[a]*100)\n",
    "    print(\"F1 Score\")\n",
    "    print(pred_val)\n",
    "    print(\"\\n\")"
   ]
  },
  {
   "cell_type": "code",
   "execution_count": 69,
   "id": "591ef2c8-4bc9-48a1-a9ff-f06b56e08d6b",
   "metadata": {},
   "outputs": [
    {
     "name": "stdout",
     "output_type": "stream",
     "text": [
      "Objects: ('Multi-NB', 'SVM', 'KNN') Length: 3\n",
      "Accuracy Scores: [0.9838516746411483, 0.9820574162679426, 0.9491626794258373] Length: 3\n"
     ]
    }
   ],
   "source": [
    "print(\"Objects:\", objects, \"Length:\", len(objects))\n",
    "print(\"Accuracy Scores:\", acc_score, \"Length:\", len(acc_score))\n"
   ]
  },
  {
   "cell_type": "code",
   "execution_count": 71,
   "id": "fd7a4bbf-83d3-4bde-9af3-2cd83dfb5837",
   "metadata": {},
   "outputs": [
    {
     "data": {
      "image/png": "[encoded data removed]",
      "text/plain": [
       "<Figure size 640x480 with 1 Axes>"
      ]
     },
     "metadata": {},
     "output_type": "display_data"
    }
   ],
   "source": [
    "min_len = min(len(objects), len(acc_score))\n",
    "objects = objects[:min_len]\n",
    "y_val = acc_score[:min_len]\n",
    "y_pos = np.arange(min_len)\n",
    "\n",
    "plt.bar(y_pos, y_val, align='center', alpha=0.7)\n",
    "plt.xticks(y_pos, objects)\n",
    "plt.ylabel('Accuracy Score')\n",
    "plt.title('Comparison')\n",
    "plt.show()\n"
   ]
  },
  {
   "cell_type": "code",
   "execution_count": null,
   "id": "9355302b-cbd6-400a-9b43-31c7a7fcc99e",
   "metadata": {},
   "outputs": [],
   "source": []
  }
 ],
 "metadata": {
  "kernelspec": {
   "display_name": "Python 3 (ipykernel)",
   "language": "python",
   "name": "python3"
  },
  "language_info": {
   "codemirror_mode": {
    "name": "ipython",
    "version": 3
   },
   "file_extension": ".py",
   "mimetype": "text/x-python",
   "name": "python",
   "nbconvert_exporter": "python",
   "pygments_lexer": "ipython3",
   "version": "3.12.7"
  }
 },
 "nbformat": 4,
 "nbformat_minor": 5
}
